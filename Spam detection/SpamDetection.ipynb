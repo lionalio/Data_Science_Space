{
 "cells": [
  {
   "cell_type": "code",
   "execution_count": 1,
   "metadata": {},
   "outputs": [
    {
     "name": "stdout",
     "output_type": "stream",
     "text": [
      "TfidfVectorizer MultinomialNB\n",
      "Running  function\n",
      "Start timing at:  1624631023.4990184\n",
      "Running  function\n",
      "Start timing at:  1624631023.4990184\n",
      "----- Running data preprocessing. Currently nothing to do...\n",
      "Time elapsed:  0.0\n",
      "Running  function\n",
      "Start timing at:  1624631023.5000172\n",
      "Time elapsed:  4.3902809619903564\n",
      "Running  function\n",
      "Start timing at:  1624631027.8902981\n"
     ]
    },
    {
     "name": "stderr",
     "output_type": "stream",
     "text": [
      "C:\\Users\\Lion Alio\\Anaconda3\\envs\\torch-gpu\\lib\\site-packages\\sklearn\\model_selection\\_split.py:2053: FutureWarning: You should specify a value for 'cv' instead of relying on the default value. The default value will change from 3 to 5 in version 0.22.\n",
      "  warnings.warn(CV_WARNING, FutureWarning)\n"
     ]
    },
    {
     "name": "stdout",
     "output_type": "stream",
     "text": [
      "Time elapsed:  0.7240297794342041\n",
      "Running  function\n",
      "Start timing at:  1624631028.614328\n",
      "accuracy_score:  0.9005524861878453\n",
      "confusion matrix for  MultinomialNB :  [[525  96]\n",
      " [ 30 616]]\n",
      "Time elapsed:  0.008976221084594727\n",
      "Time elapsed:  5.124285697937012\n",
      "TfidfVectorizer PassiveAggressiveClassifier\n",
      "Running  function\n",
      "Start timing at:  1624631028.6233041\n",
      "Running  function\n",
      "Start timing at:  1624631028.6243012\n",
      "----- Running data preprocessing. Currently nothing to do...\n",
      "Time elapsed:  0.0\n",
      "Running  function\n",
      "Start timing at:  1624631028.6243012\n",
      "Time elapsed:  3.862215757369995\n",
      "Running  function\n",
      "Start timing at:  1624631032.486517\n"
     ]
    },
    {
     "name": "stderr",
     "output_type": "stream",
     "text": [
      "C:\\Users\\Lion Alio\\Anaconda3\\envs\\torch-gpu\\lib\\site-packages\\sklearn\\model_selection\\_split.py:2053: FutureWarning: You should specify a value for 'cv' instead of relying on the default value. The default value will change from 3 to 5 in version 0.22.\n",
      "  warnings.warn(CV_WARNING, FutureWarning)\n",
      "C:\\Users\\Lion Alio\\Anaconda3\\envs\\torch-gpu\\lib\\site-packages\\sklearn\\linear_model\\stochastic_gradient.py:183: FutureWarning: max_iter and tol parameters have been added in PassiveAggressiveClassifier in 0.19. If max_iter is set but tol is left unset, the default value for tol in 0.19 and 0.20 will be None (which is equivalent to -infinity, so it has no effect) but will change in 0.21 to 1e-3. Specify tol to silence this warning.\n",
      "  FutureWarning)\n"
     ]
    },
    {
     "name": "stdout",
     "output_type": "stream",
     "text": [
      "Time elapsed:  14.497930526733398\n",
      "Running  function\n",
      "Start timing at:  1624631046.9844475\n",
      "accuracy_score:  0.9313338595106551\n",
      "confusion matrix for  PassiveAggressiveClassifier :  [[580  41]\n",
      " [ 46 600]]\n",
      "Time elapsed:  0.012964010238647461\n",
      "Time elapsed:  18.37311029434204\n",
      "TfidfVectorizer LogisticRegression\n",
      "Running  function\n",
      "Start timing at:  1624631046.9974115\n",
      "Running  function\n",
      "Start timing at:  1624631046.9974115\n",
      "----- Running data preprocessing. Currently nothing to do...\n",
      "Time elapsed:  0.0\n",
      "Running  function\n",
      "Start timing at:  1624631046.9974115\n",
      "Time elapsed:  4.271599769592285\n",
      "Running  function\n",
      "Start timing at:  1624631051.2690113\n"
     ]
    },
    {
     "name": "stderr",
     "output_type": "stream",
     "text": [
      "C:\\Users\\Lion Alio\\Anaconda3\\envs\\torch-gpu\\lib\\site-packages\\sklearn\\model_selection\\_split.py:2053: FutureWarning: You should specify a value for 'cv' instead of relying on the default value. The default value will change from 3 to 5 in version 0.22.\n",
      "  warnings.warn(CV_WARNING, FutureWarning)\n",
      "C:\\Users\\Lion Alio\\Anaconda3\\envs\\torch-gpu\\lib\\site-packages\\sklearn\\linear_model\\logistic.py:433: FutureWarning: Default solver will be changed to 'lbfgs' in 0.22. Specify a solver to silence this warning.\n",
      "  FutureWarning)\n"
     ]
    },
    {
     "name": "stdout",
     "output_type": "stream",
     "text": [
      "Time elapsed:  16.92227268218994\n",
      "Running  function\n",
      "Start timing at:  1624631068.1922827\n",
      "accuracy_score:  0.9187056037884768\n",
      "confusion matrix for  LogisticRegression :  [[578  43]\n",
      " [ 60 586]]\n",
      "Time elapsed:  0.007977008819580078\n",
      "Time elapsed:  21.202848196029663\n",
      "CountVectorizer MultinomialNB\n",
      "Running  function\n",
      "Start timing at:  1624631068.2002597\n",
      "Running  function\n",
      "Start timing at:  1624631068.2002597\n",
      "----- Running data preprocessing. Currently nothing to do...\n",
      "Time elapsed:  0.0\n",
      "Running  function\n",
      "Start timing at:  1624631068.201257\n",
      "Time elapsed:  3.8576762676239014\n",
      "Running  function\n",
      "Start timing at:  1624631072.059931\n"
     ]
    },
    {
     "name": "stderr",
     "output_type": "stream",
     "text": [
      "C:\\Users\\Lion Alio\\Anaconda3\\envs\\torch-gpu\\lib\\site-packages\\sklearn\\model_selection\\_split.py:2053: FutureWarning: You should specify a value for 'cv' instead of relying on the default value. The default value will change from 3 to 5 in version 0.22.\n",
      "  warnings.warn(CV_WARNING, FutureWarning)\n"
     ]
    },
    {
     "name": "stdout",
     "output_type": "stream",
     "text": [
      "Time elapsed:  0.6911492347717285\n",
      "Running  function\n",
      "Start timing at:  1624631072.7510803\n",
      "accuracy_score:  0.8958168902920284\n",
      "confusion matrix for  MultinomialNB :  [[529  92]\n",
      " [ 40 606]]\n",
      "Time elapsed:  0.008975744247436523\n",
      "Time elapsed:  4.559796333312988\n",
      "CountVectorizer PassiveAggressiveClassifier\n",
      "Running  function\n",
      "Start timing at:  1624631072.7610526\n",
      "Running  function\n",
      "Start timing at:  1624631072.7610526\n",
      "----- Running data preprocessing. Currently nothing to do...\n",
      "Time elapsed:  0.0\n",
      "Running  function\n",
      "Start timing at:  1624631072.762052\n",
      "Time elapsed:  3.5601816177368164\n",
      "Running  function\n",
      "Start timing at:  1624631076.3232365\n"
     ]
    },
    {
     "name": "stderr",
     "output_type": "stream",
     "text": [
      "C:\\Users\\Lion Alio\\Anaconda3\\envs\\torch-gpu\\lib\\site-packages\\sklearn\\model_selection\\_split.py:2053: FutureWarning: You should specify a value for 'cv' instead of relying on the default value. The default value will change from 3 to 5 in version 0.22.\n",
      "  warnings.warn(CV_WARNING, FutureWarning)\n",
      "C:\\Users\\Lion Alio\\Anaconda3\\envs\\torch-gpu\\lib\\site-packages\\sklearn\\linear_model\\stochastic_gradient.py:183: FutureWarning: max_iter and tol parameters have been added in PassiveAggressiveClassifier in 0.19. If max_iter is set but tol is left unset, the default value for tol in 0.19 and 0.20 will be None (which is equivalent to -infinity, so it has no effect) but will change in 0.21 to 1e-3. Specify tol to silence this warning.\n",
      "  FutureWarning)\n"
     ]
    },
    {
     "name": "stdout",
     "output_type": "stream",
     "text": [
      "Time elapsed:  17.217880964279175\n",
      "Running  function\n",
      "Start timing at:  1624631093.5421145\n",
      "accuracy_score:  0.8997632202052092\n",
      "confusion matrix for  PassiveAggressiveClassifier :  [[555  66]\n",
      " [ 61 585]]\n",
      "Time elapsed:  0.014959573745727539\n",
      "Time elapsed:  20.796021461486816\n",
      "CountVectorizer LogisticRegression\n",
      "Running  function\n",
      "Start timing at:  1624631093.5580726\n",
      "Running  function\n",
      "Start timing at:  1624631093.5590684\n",
      "----- Running data preprocessing. Currently nothing to do...\n",
      "Time elapsed:  0.0\n",
      "Running  function\n",
      "Start timing at:  1624631093.5590684\n",
      "Time elapsed:  4.859024524688721\n",
      "Running  function\n",
      "Start timing at:  1624631098.4191043\n"
     ]
    },
    {
     "name": "stderr",
     "output_type": "stream",
     "text": [
      "C:\\Users\\Lion Alio\\Anaconda3\\envs\\torch-gpu\\lib\\site-packages\\sklearn\\model_selection\\_split.py:2053: FutureWarning: You should specify a value for 'cv' instead of relying on the default value. The default value will change from 3 to 5 in version 0.22.\n",
      "  warnings.warn(CV_WARNING, FutureWarning)\n",
      "C:\\Users\\Lion Alio\\Anaconda3\\envs\\torch-gpu\\lib\\site-packages\\sklearn\\linear_model\\logistic.py:433: FutureWarning: Default solver will be changed to 'lbfgs' in 0.22. Specify a solver to silence this warning.\n",
      "  FutureWarning)\n"
     ]
    },
    {
     "name": "stdout",
     "output_type": "stream",
     "text": [
      "Time elapsed:  66.96713495254517\n",
      "Running  function\n",
      "Start timing at:  1624631165.3862393\n",
      "accuracy_score:  0.9226519337016574\n",
      "confusion matrix for  LogisticRegression :  [[580  41]\n",
      " [ 57 589]]\n",
      "Time elapsed:  0.008978128433227539\n",
      "Time elapsed:  71.83614897727966\n"
     ]
    }
   ],
   "source": [
    "from spam_detection import *\n",
    "\n",
    "preprocessings = [\n",
    "    TfidfVectorizer(stop_words='english', max_df=0.7), \n",
    "    CountVectorizer(ngram_range=(1,1), # to use bigrams ngram_range=(2,2)\n",
    "                    stop_words='english')             \n",
    "                 ]\n",
    "\n",
    "classifiers = [MultinomialNB(),\n",
    "               PassiveAggressiveClassifier(),\n",
    "               LogisticRegression()\n",
    "              ]\n",
    "parameters = [\n",
    "    # Naive Bayes\n",
    "    {\n",
    "        'alpha': [0.1, 0.2, 0.5, 1.]\n",
    "    },\n",
    "    # Passive Aggressive\n",
    "    {\n",
    "        'max_iter': [10, 20, 50, 100],\n",
    "         'C': [0.1, 0.5, 1.],\n",
    "         'loss': ['hinge', 'squared_hinge']\n",
    "    },\n",
    "    # Logistic Regression\n",
    "    {\n",
    "        'penalty': ['l1', 'l2'],\n",
    "        'C': [0.1, 0.5, 1., 2.],\n",
    "        'max_iter': [20, 50, 100, 200]\n",
    "    }\n",
    "]\n",
    "\n",
    "detector = SpamDetection('news.csv', 'text', 'label')\n",
    "for prep in preprocessings:\n",
    "    for clf, params in zip(classifiers, parameters):\n",
    "        print(prep.__class__.__name__, clf.__class__.__name__)\n",
    "        detector.set_methods(prep, clf)\n",
    "        detector.set_parameters(params)\n",
    "        detector.run()"
   ]
  },
  {
   "cell_type": "code",
   "execution_count": null,
   "metadata": {},
   "outputs": [],
   "source": []
  }
 ],
 "metadata": {
  "kernelspec": {
   "display_name": "Python 3",
   "language": "python",
   "name": "python3"
  },
  "language_info": {
   "codemirror_mode": {
    "name": "ipython",
    "version": 3
   },
   "file_extension": ".py",
   "mimetype": "text/x-python",
   "name": "python",
   "nbconvert_exporter": "python",
   "pygments_lexer": "ipython3",
   "version": "3.6.8"
  }
 },
 "nbformat": 4,
 "nbformat_minor": 2
}
