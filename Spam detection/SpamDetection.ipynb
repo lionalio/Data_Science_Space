{
 "cells": [
  {
   "cell_type": "code",
   "execution_count": 1,
   "metadata": {},
   "outputs": [
    {
     "name": "stderr",
     "output_type": "stream",
     "text": [
      "Using TensorFlow backend.\n"
     ]
    },
    {
     "name": "stdout",
     "output_type": "stream",
     "text": [
      "      Unnamed: 0                                              title  \\\n",
      "0           8476                       You Can Smell Hillary’s Fear   \n",
      "1          10294  Watch The Exact Moment Paul Ryan Committed Pol...   \n",
      "2           3608        Kerry to go to Paris in gesture of sympathy   \n",
      "3          10142  Bernie supporters on Twitter erupt in anger ag...   \n",
      "4            875   The Battle of New York: Why This Primary Matters   \n",
      "5           6903                                        Tehran, USA   \n",
      "6           7341  Girl Horrified At What She Watches Boyfriend D...   \n",
      "7             95                  ‘Britain’s Schindler’ Dies at 106   \n",
      "8           4869  Fact check: Trump and Clinton at the 'commande...   \n",
      "9           2909  Iran reportedly makes new push for uranium con...   \n",
      "10          1357  With all three Clintons in Iowa, a glimpse at ...   \n",
      "11           988  Donald Trump’s Shockingly Weak Delegate Game S...   \n",
      "12          7041  Strong Solar Storm, Tech Risks Today | S0 News...   \n",
      "13          7623       10 Ways America Is Preparing for World War 3   \n",
      "14          1571                   Trump takes on Cruz, but lightly   \n",
      "15          4739                         How women lead differently   \n",
      "16          7737  Shocking! Michele Obama & Hillary Caught Glamo...   \n",
      "17          8716  Hillary Clinton in HUGE Trouble After America ...   \n",
      "18          3304  What's in that Iran bill that Obama doesn't like?   \n",
      "19          3078  The 1 chart that explains everything you need ...   \n",
      "20          2517  The slippery slope to Trump’s proposed ban on ...   \n",
      "21         10348  Episode #160 – SUNDAY WIRE: ‘Hail to the Deplo...   \n",
      "22           778  Hillary Clinton Makes A Bipartisan Appeal on S...   \n",
      "23          3300  New Senate majority leader’s main goal for GOP...   \n",
      "24          6155              ‘Inferno’ and the Overpopulation Myth   \n",
      "25           636  Anti-Trump forces seek last-ditch delegate revolt   \n",
      "26           755  Sanders Trounces Clinton in W. Va. -- But Will...   \n",
      "27           626  Donald Trump Is Changing His Campaign Slogan t...   \n",
      "28           691  Pure chaos: Donald Trump’s campaign management...   \n",
      "29          5743  Syrian War Report – November 1, 2016: Syrian M...   \n",
      "...          ...                                                ...   \n",
      "6305        6457  Colin Kaepernick hosts ‘Know Your Rights’ camp...   \n",
      "6306        7030  Wikileaks Emails Disclose Aliens Linked to Vat...   \n",
      "6307        9013  US abstains from UN vote calling for end to Cu...   \n",
      "6308        9509  West Ham fans laud aerodynamic properties of n...   \n",
      "6309        3825      How the Obama White House runs foreign policy   \n",
      "6310        4515  ISIS claims responsibility for Garland, Texas,...   \n",
      "6311        2747  The “blame the left” crew: What the right’s ne...   \n",
      "6312        6516  ADHD NATION: How Big Pharma Created the ADHD E...   \n",
      "6313        9636  Donald Trump claims the election will be 'rigg...   \n",
      "6314        7398  REPORT: Dirty Reporter Blackmails Montel… Help...   \n",
      "6315        3717  Police Arrest Suspect In Charleston Church Sho...   \n",
      "6316        5205  Donald Trump’s collapse was caused by one big ...   \n",
      "6317        6696  FINA suspends Russian swimmer for 8 years over...   \n",
      "6318        7991  BREAKING : Hillary Campaign Manager Deletes hi...   \n",
      "6319        1303  Why Ted Cruz Has the Most to Lose in New Hamps...   \n",
      "6320        9051  “Nothing Good Can Come of This Election”–and T...   \n",
      "6321       10200   List of Republicans opposing Trump | OffGuardian   \n",
      "6322       10009  Putin: Use of 'mythical' Russian military thre...   \n",
      "6323        4214  Bernie Sanders says private meeting with Pope ...   \n",
      "6324        2316  Alabama Lawmaker: Same-Sex Couples Don’t Deser...   \n",
      "6325        8411  Will the Media Reset After the Election or Are...   \n",
      "6326        6143  DOJ COMPLAINT: Comey Under Fire Over Partisan ...   \n",
      "6327        3262  GOP Senator David Perdue Jokes About Praying f...   \n",
      "6328        9337  Radio Derb Is On The Air–Leonardo And Brazil’s...   \n",
      "6329        8737  Assange claims ‘crazed’ Clinton campaign tried...   \n",
      "6330        4490  State Department says it can't find emails fro...   \n",
      "6331        8062  The ‘P’ in PBS Should Stand for ‘Plutocratic’ ...   \n",
      "6332        8622  Anti-Trump Protesters Are Tools of the Oligarc...   \n",
      "6333        4021  In Ethiopia, Obama seeks progress on peace, se...   \n",
      "6334        4330  Jeb Bush Is Suddenly Attacking Trump. Here's W...   \n",
      "\n",
      "                                                   text label  \n",
      "0     Daniel Greenfield, a Shillman Journalism Fello...  FAKE  \n",
      "1     Google Pinterest Digg Linkedin Reddit Stumbleu...  FAKE  \n",
      "2     U.S. Secretary of State John F. Kerry said Mon...  REAL  \n",
      "3     — Kaydee King (@KaydeeKing) November 9, 2016 T...  FAKE  \n",
      "4     It's primary day in New York and front-runners...  REAL  \n",
      "5       \\nI’m not an immigrant, but my grandparents ...  FAKE  \n",
      "6     Share This Baylee Luciani (left), Screenshot o...  FAKE  \n",
      "7     A Czech stockbroker who saved more than 650 Je...  REAL  \n",
      "8     Hillary Clinton and Donald Trump made some ina...  REAL  \n",
      "9     Iranian negotiators reportedly have made a las...  REAL  \n",
      "10    CEDAR RAPIDS, Iowa — “I had one of the most wo...  REAL  \n",
      "11    Donald Trump’s organizational problems have go...  REAL  \n",
      "12    Click Here To Learn More About Alexandra's Per...  FAKE  \n",
      "13    October 31, 2016 at 4:52 am \\nPretty factual e...  FAKE  \n",
      "14    Killing Obama administration rules, dismantlin...  REAL  \n",
      "15    As more women move into high offices, they oft...  REAL  \n",
      "16    Shocking! Michele Obama & Hillary Caught Glamo...  FAKE  \n",
      "17    0 \\nHillary Clinton has barely just lost the p...  FAKE  \n",
      "18    Washington (CNN) For months, the White House a...  REAL  \n",
      "19    While paging through Pew's best data visualiza...  REAL  \n",
      "20    With little fanfare this fall, the New York de...  REAL  \n",
      "21    November 13, 2016 By 21wire Leave a Comment \\n...  FAKE  \n",
      "22    Hillary Clinton told a Staten Island crowd tod...  REAL  \n",
      "23    Mitch McConnell has an unusual admonition for ...  REAL  \n",
      "24    Mises.org November 1, 2016 Inferno is a great ...  FAKE  \n",
      "25    Washington (CNN) The faction of the GOP that i...  REAL  \n",
      "26    Meanwhile, Democrat Bernie Sanders picked up m...  REAL  \n",
      "27    After a week of nonstop criticism from Democra...  REAL  \n",
      "28    If you want a glimpse into a presidential cand...  REAL  \n",
      "29    Syrian War Report – October 31, 2016: Al-Nusra...  FAKE  \n",
      "...                                                 ...   ...  \n",
      "6305  Print \\n[Ed. – Now teaching the gospel of raci...  FAKE  \n",
      "6306  Sound too “strange” to be true? We have proof!...  FAKE  \n",
      "6307  US abstains from UN vote calling for end to Cu...  FAKE  \n",
      "6308  Tuesday 1 November 2016 by Formelia Alberthine...  FAKE  \n",
      "6309  When Susan E. Rice took over as President Obam...  REAL  \n",
      "6310  (CNN) ISIS has claimed responsibility for the ...  REAL  \n",
      "6311  It was inevitable that liberals would end up b...  REAL  \n",
      "6312  By Kalee Brown\\nWhile I was at university, man...  FAKE  \n",
      "6313  Email \\nDonald Trump is again riling up his vo...  FAKE  \n",
      "6314  BREAKING: Trump Jumps in FL, Takes 4 Point Lea...  FAKE  \n",
      "6315  Police in Charleston, S.C., say a man they sus...  REAL  \n",
      "6316  Silver of FiveThirtyEight.com has laid out fou...  REAL  \n",
      "6317  This post was originally published on this sit...  FAKE  \n",
      "6318  BREAKING : Hillary Campaign Manager Deletes hi...  FAKE  \n",
      "6319  Ted Cruz took first prize in the Iowa caucuses...  REAL  \n",
      "6320  Posted on November 4, 2016 by Charles Hugh Smi...  FAKE  \n",
      "6321  Charlie Baker , Massachusetts (2015–present)[3...  FAKE  \n",
      "6322  vladimir putin , Valdai , sochi , RBTH Daily R...  FAKE  \n",
      "6323  ROME —  U.S. Democratic presidential candidate...  REAL  \n",
      "6324  Most conservatives who oppose marriage equalit...  REAL  \n",
      "6325  Written by Peter Van Buren   venerable New Yor...  FAKE  \n",
      "6326  DOJ COMPLAINT: Comey Under Fire Over Partisan ...  FAKE  \n",
      "6327  The freshman senator from Georgia quoted scrip...  REAL  \n",
      "6328                                                     FAKE  \n",
      "6329  Julian Assange has claimed the Hillary Clinton...  FAKE  \n",
      "6330  The State Department told the Republican Natio...  REAL  \n",
      "6331  The ‘P’ in PBS Should Stand for ‘Plutocratic’ ...  FAKE  \n",
      "6332   Anti-Trump Protesters Are Tools of the Oligar...  FAKE  \n",
      "6333  ADDIS ABABA, Ethiopia —President Obama convene...  REAL  \n",
      "6334  Jeb Bush Is Suddenly Attacking Trump. Here's W...  REAL  \n",
      "\n",
      "[6335 rows x 4 columns]\n"
     ]
    },
    {
     "name": "stdout",
     "output_type": "stream",
     "text": [
      "Running  run\n",
      "Running  classifier\n"
     ]
    },
    {
     "name": "stderr",
     "output_type": "stream",
     "text": [
      "C:\\Users\\Lion Alio\\Anaconda3\\envs\\torch-gpu\\lib\\site-packages\\sklearn\\model_selection\\_split.py:2053: FutureWarning: You should specify a value for 'cv' instead of relying on the default value. The default value will change from 3 to 5 in version 0.22.\n",
      "  warnings.warn(CV_WARNING, FutureWarning)\n"
     ]
    },
    {
     "name": "stdout",
     "output_type": "stream",
     "text": [
      "Time elapsed:  0.7170810699462891\n",
      "Running  evaluate\n",
      "accuracy_score:  0.904498816101026\n",
      "confusion matrix for  MultinomialNB :  [[597  32]\n",
      " [ 89 549]]\n"
     ]
    },
    {
     "data": {
      "text/plain": [
       "<Figure size 640x480 with 1 Axes>"
      ]
     },
     "metadata": {},
     "output_type": "display_data"
    },
    {
     "name": "stdout",
     "output_type": "stream",
     "text": [
      "Time elapsed:  0.0608370304107666\n",
      "Time elapsed:  9.555427551269531\n",
      "Running  run\n",
      "Running  classifier\n"
     ]
    },
    {
     "name": "stderr",
     "output_type": "stream",
     "text": [
      "C:\\Users\\Lion Alio\\Anaconda3\\envs\\torch-gpu\\lib\\site-packages\\sklearn\\model_selection\\_split.py:2053: FutureWarning: You should specify a value for 'cv' instead of relying on the default value. The default value will change from 3 to 5 in version 0.22.\n",
      "  warnings.warn(CV_WARNING, FutureWarning)\n",
      "C:\\Users\\Lion Alio\\Anaconda3\\envs\\torch-gpu\\lib\\site-packages\\sklearn\\linear_model\\stochastic_gradient.py:183: FutureWarning: max_iter and tol parameters have been added in PassiveAggressiveClassifier in 0.19. If max_iter is set but tol is left unset, the default value for tol in 0.19 and 0.20 will be None (which is equivalent to -infinity, so it has no effect) but will change in 0.21 to 1e-3. Specify tol to silence this warning.\n",
      "  FutureWarning)\n"
     ]
    },
    {
     "name": "stdout",
     "output_type": "stream",
     "text": [
      "Time elapsed:  20.655717849731445\n",
      "Running  evaluate\n",
      "accuracy_score:  0.9289660615627466\n",
      "confusion matrix for  PassiveAggressiveClassifier :  [[586  43]\n",
      " [ 47 591]]\n",
      "This function doesnt have probability calculation\n",
      "Time elapsed:  0.008975744247436523\n",
      "Time elapsed:  29.696521282196045\n",
      "Running  run\n",
      "Running  classifier\n"
     ]
    },
    {
     "name": "stderr",
     "output_type": "stream",
     "text": [
      "C:\\Users\\Lion Alio\\Anaconda3\\envs\\torch-gpu\\lib\\site-packages\\sklearn\\model_selection\\_split.py:2053: FutureWarning: You should specify a value for 'cv' instead of relying on the default value. The default value will change from 3 to 5 in version 0.22.\n",
      "  warnings.warn(CV_WARNING, FutureWarning)\n",
      "C:\\Users\\Lion Alio\\Anaconda3\\envs\\torch-gpu\\lib\\site-packages\\sklearn\\linear_model\\logistic.py:433: FutureWarning: Default solver will be changed to 'lbfgs' in 0.22. Specify a solver to silence this warning.\n",
      "  FutureWarning)\n"
     ]
    },
    {
     "name": "stdout",
     "output_type": "stream",
     "text": [
      "Time elapsed:  28.328184366226196\n",
      "Running  evaluate\n",
      "accuracy_score:  0.9187056037884768\n",
      "confusion matrix for  LogisticRegression :  [[568  61]\n",
      " [ 42 596]]\n"
     ]
    },
    {
     "data": {
      "text/plain": [
       "<Figure size 640x480 with 1 Axes>"
      ]
     },
     "metadata": {},
     "output_type": "display_data"
    },
    {
     "name": "stdout",
     "output_type": "stream",
     "text": [
      "Time elapsed:  0.03690195083618164\n",
      "Time elapsed:  36.80250549316406\n"
     ]
    }
   ],
   "source": [
    "#from spam_detection import *\n",
    "\n",
    "import sys\n",
    "import os\n",
    "\n",
    "module_path = os.path.abspath(os.path.join('..'))\n",
    "if module_path not in sys.path:\n",
    "    sys.path.append(module_path + \"\\\\common\")\n",
    "\n",
    "from classification import *\n",
    "\n",
    "methods = {\n",
    "    'imputer': None,\n",
    "    'mapping': None,\n",
    "    'dim_reduce': False,\n",
    "    'preprocess': TfidfVectorizer(stop_words='english', max_df=0.7)\n",
    "}\n",
    "\n",
    "#preprocessings = [\n",
    "#    TfidfVectorizer(stop_words='english', max_df=0.7), \n",
    "#    CountVectorizer(ngram_range=(1,1), # to use bigrams ngram_range=(2,2)\n",
    "#                    stop_words='english')             \n",
    "#                 ]\n",
    "\n",
    "classifiers = [MultinomialNB(),\n",
    "               PassiveAggressiveClassifier(),\n",
    "               LogisticRegression()\n",
    "              ]\n",
    "\n",
    "parameters = [\n",
    "    # Naive Bayes\n",
    "    {\n",
    "        'alpha': [0.1, 0.2, 0.5, 1.]\n",
    "    },\n",
    "    # Passive Aggressive\n",
    "    {\n",
    "        'max_iter': [10, 20, 50, 100],\n",
    "         'C': [0.1, 0.5, 1.],\n",
    "         'loss': ['hinge', 'squared_hinge']\n",
    "    },\n",
    "    # Logistic Regression\n",
    "    {\n",
    "        'penalty': ['l1', 'l2'],\n",
    "        'C': [0.1, 0.5, 1., 2.],\n",
    "        'max_iter': [20, 50, 100, 200]\n",
    "    }\n",
    "]\n",
    "\n",
    "mapping = {\n",
    "    'label': {\n",
    "        'FAKE': 1,\n",
    "        'REAL': 0\n",
    "    }\n",
    "}\n",
    "\n",
    "df = pd.read_csv('news.csv', delimiter=',')\n",
    "print(df)\n",
    "\n",
    "detector = Classification('news.csv', ['text'], 'label', data_cat='text')\n",
    "detector.set_mapping(mapping)\n",
    "detector.set_methods_process(methods)\n",
    "for clf, params in zip(classifiers, parameters):\n",
    "    detector.set_methods(clf)\n",
    "    detector.set_parameters(params)\n",
    "    detector.run()\n",
    "\n",
    "#for prep in preprocessings:\n",
    "#    for clf, params in zip(classifiers, parameters):\n",
    "#        print(prep.__class__.__name__, clf.__class__.__name__)\n",
    "#        detector.set_methods(prep, clf)\n",
    "#        detector.set_parameters(params)\n",
    "#        detector.run()"
   ]
  },
  {
   "cell_type": "code",
   "execution_count": null,
   "metadata": {},
   "outputs": [],
   "source": []
  },
  {
   "cell_type": "code",
   "execution_count": null,
   "metadata": {},
   "outputs": [],
   "source": []
  }
 ],
 "metadata": {
  "kernelspec": {
   "display_name": "Python 3",
   "language": "python",
   "name": "python3"
  },
  "language_info": {
   "codemirror_mode": {
    "name": "ipython",
    "version": 3
   },
   "file_extension": ".py",
   "mimetype": "text/x-python",
   "name": "python",
   "nbconvert_exporter": "python",
   "pygments_lexer": "ipython3",
   "version": "3.6.8"
  }
 },
 "nbformat": 4,
 "nbformat_minor": 2
}
