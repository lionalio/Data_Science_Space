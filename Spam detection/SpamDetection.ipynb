{
 "cells": [
  {
   "cell_type": "code",
   "execution_count": 1,
   "metadata": {},
   "outputs": [
    {
     "name": "stdout",
     "output_type": "stream",
     "text": [
      "Running  data_preparation\n",
      "Time elapsed:  0.0039899349212646484\n",
      "TfidfVectorizer MultinomialNB\n",
      "Running  run\n",
      "Running  data_preparation\n",
      "Time elapsed:  0.002993345260620117\n",
      "Running  preprocessing\n",
      "Time elapsed:  9.971096515655518\n",
      "Running  classifier\n"
     ]
    },
    {
     "name": "stderr",
     "output_type": "stream",
     "text": [
      "C:\\Users\\Lion Alio\\Anaconda3\\envs\\torch-gpu\\lib\\site-packages\\sklearn\\model_selection\\_split.py:2053: FutureWarning: You should specify a value for 'cv' instead of relying on the default value. The default value will change from 3 to 5 in version 0.22.\n",
      "  warnings.warn(CV_WARNING, FutureWarning)\n"
     ]
    },
    {
     "name": "stdout",
     "output_type": "stream",
     "text": [
      "Time elapsed:  1.0761492252349854\n",
      "Running  evaluate\n",
      "accuracy_score:  0.8981846882399369\n",
      "confusion matrix for  MultinomialNB :  [[592  39]\n",
      " [ 90 546]]\n"
     ]
    },
    {
     "data": {
      "text/plain": [
       "<Figure size 640x480 with 1 Axes>"
      ]
     },
     "metadata": {},
     "output_type": "display_data"
    },
    {
     "name": "stdout",
     "output_type": "stream",
     "text": [
      "Time elapsed:  0.08048295974731445\n",
      "Time elapsed:  11.136703968048096\n",
      "TfidfVectorizer PassiveAggressiveClassifier\n",
      "Running  run\n",
      "Running  data_preparation\n",
      "Time elapsed:  0.004987001419067383\n",
      "Running  preprocessing\n",
      "Time elapsed:  9.307995319366455\n",
      "Running  classifier\n"
     ]
    },
    {
     "name": "stderr",
     "output_type": "stream",
     "text": [
      "C:\\Users\\Lion Alio\\Anaconda3\\envs\\torch-gpu\\lib\\site-packages\\sklearn\\model_selection\\_split.py:2053: FutureWarning: You should specify a value for 'cv' instead of relying on the default value. The default value will change from 3 to 5 in version 0.22.\n",
      "  warnings.warn(CV_WARNING, FutureWarning)\n",
      "C:\\Users\\Lion Alio\\Anaconda3\\envs\\torch-gpu\\lib\\site-packages\\sklearn\\linear_model\\stochastic_gradient.py:183: FutureWarning: max_iter and tol parameters have been added in PassiveAggressiveClassifier in 0.19. If max_iter is set but tol is left unset, the default value for tol in 0.19 and 0.20 will be None (which is equivalent to -infinity, so it has no effect) but will change in 0.21 to 1e-3. Specify tol to silence this warning.\n",
      "  FutureWarning)\n"
     ]
    },
    {
     "name": "stdout",
     "output_type": "stream",
     "text": [
      "Time elapsed:  25.314022541046143\n",
      "Running  evaluate\n",
      "accuracy_score:  0.9368587213891081\n",
      "confusion matrix for  PassiveAggressiveClassifier :  [[578  53]\n",
      " [ 27 609]]\n",
      "This function doesnt have probability calculation\n",
      "Time elapsed:  0.011966943740844727\n",
      "Time elapsed:  34.64196538925171\n",
      "TfidfVectorizer LogisticRegression\n",
      "Running  run\n",
      "Running  data_preparation\n",
      "Time elapsed:  0.0059850215911865234\n",
      "Running  preprocessing\n",
      "Time elapsed:  10.493918418884277\n",
      "Running  classifier\n"
     ]
    },
    {
     "name": "stderr",
     "output_type": "stream",
     "text": [
      "C:\\Users\\Lion Alio\\Anaconda3\\envs\\torch-gpu\\lib\\site-packages\\sklearn\\model_selection\\_split.py:2053: FutureWarning: You should specify a value for 'cv' instead of relying on the default value. The default value will change from 3 to 5 in version 0.22.\n",
      "  warnings.warn(CV_WARNING, FutureWarning)\n",
      "C:\\Users\\Lion Alio\\Anaconda3\\envs\\torch-gpu\\lib\\site-packages\\sklearn\\linear_model\\logistic.py:433: FutureWarning: Default solver will be changed to 'lbfgs' in 0.22. Specify a solver to silence this warning.\n",
      "  FutureWarning)\n"
     ]
    },
    {
     "name": "stdout",
     "output_type": "stream",
     "text": [
      "Time elapsed:  33.776957750320435\n",
      "Running  evaluate\n",
      "accuracy_score:  0.9337016574585635\n",
      "confusion matrix for  LogisticRegression :  [[574  57]\n",
      " [ 27 609]]\n"
     ]
    },
    {
     "data": {
      "text/plain": [
       "<Figure size 640x480 with 1 Axes>"
      ]
     },
     "metadata": {},
     "output_type": "display_data"
    },
    {
     "name": "stdout",
     "output_type": "stream",
     "text": [
      "Time elapsed:  0.06598114967346191\n",
      "Time elapsed:  44.344836473464966\n",
      "CountVectorizer MultinomialNB\n",
      "Running  run\n",
      "Running  data_preparation\n",
      "Time elapsed:  0.0059833526611328125\n",
      "Running  preprocessing\n",
      "Time elapsed:  10.105184078216553\n",
      "Running  classifier\n"
     ]
    },
    {
     "name": "stderr",
     "output_type": "stream",
     "text": [
      "C:\\Users\\Lion Alio\\Anaconda3\\envs\\torch-gpu\\lib\\site-packages\\sklearn\\model_selection\\_split.py:2053: FutureWarning: You should specify a value for 'cv' instead of relying on the default value. The default value will change from 3 to 5 in version 0.22.\n",
      "  warnings.warn(CV_WARNING, FutureWarning)\n"
     ]
    },
    {
     "name": "stdout",
     "output_type": "stream",
     "text": [
      "Time elapsed:  1.2616243362426758\n",
      "Running  evaluate\n",
      "accuracy_score:  0.9021310181531176\n",
      "confusion matrix for  MultinomialNB :  [[584  47]\n",
      " [ 77 559]]\n"
     ]
    },
    {
     "data": {
      "text/plain": [
       "<Figure size 640x480 with 1 Axes>"
      ]
     },
     "metadata": {},
     "output_type": "display_data"
    },
    {
     "name": "stdout",
     "output_type": "stream",
     "text": [
      "Time elapsed:  0.06582379341125488\n",
      "Time elapsed:  11.442603826522827\n",
      "CountVectorizer PassiveAggressiveClassifier\n",
      "Running  run\n",
      "Running  data_preparation\n",
      "Time elapsed:  0.0049877166748046875\n",
      "Running  preprocessing\n",
      "Time elapsed:  10.265243291854858\n",
      "Running  classifier\n"
     ]
    },
    {
     "name": "stderr",
     "output_type": "stream",
     "text": [
      "C:\\Users\\Lion Alio\\Anaconda3\\envs\\torch-gpu\\lib\\site-packages\\sklearn\\model_selection\\_split.py:2053: FutureWarning: You should specify a value for 'cv' instead of relying on the default value. The default value will change from 3 to 5 in version 0.22.\n",
      "  warnings.warn(CV_WARNING, FutureWarning)\n",
      "C:\\Users\\Lion Alio\\Anaconda3\\envs\\torch-gpu\\lib\\site-packages\\sklearn\\linear_model\\stochastic_gradient.py:183: FutureWarning: max_iter and tol parameters have been added in PassiveAggressiveClassifier in 0.19. If max_iter is set but tol is left unset, the default value for tol in 0.19 and 0.20 will be None (which is equivalent to -infinity, so it has no effect) but will change in 0.21 to 1e-3. Specify tol to silence this warning.\n",
      "  FutureWarning)\n"
     ]
    },
    {
     "name": "stdout",
     "output_type": "stream",
     "text": [
      "Time elapsed:  36.60736703872681\n",
      "Running  evaluate\n",
      "accuracy_score:  0.8973954222573007\n",
      "confusion matrix for  PassiveAggressiveClassifier :  [[562  69]\n",
      " [ 61 575]]\n",
      "This function doesnt have probability calculation\n",
      "Time elapsed:  0.012964487075805664\n",
      "Time elapsed:  46.896544456481934\n",
      "CountVectorizer LogisticRegression\n",
      "Running  run\n",
      "Running  data_preparation\n",
      "Time elapsed:  0.004987001419067383\n",
      "Running  preprocessing\n",
      "Time elapsed:  9.649438858032227\n",
      "Running  classifier\n"
     ]
    },
    {
     "name": "stderr",
     "output_type": "stream",
     "text": [
      "C:\\Users\\Lion Alio\\Anaconda3\\envs\\torch-gpu\\lib\\site-packages\\sklearn\\model_selection\\_split.py:2053: FutureWarning: You should specify a value for 'cv' instead of relying on the default value. The default value will change from 3 to 5 in version 0.22.\n",
      "  warnings.warn(CV_WARNING, FutureWarning)\n",
      "C:\\Users\\Lion Alio\\Anaconda3\\envs\\torch-gpu\\lib\\site-packages\\sklearn\\linear_model\\logistic.py:433: FutureWarning: Default solver will be changed to 'lbfgs' in 0.22. Specify a solver to silence this warning.\n",
      "  FutureWarning)\n"
     ]
    },
    {
     "name": "stdout",
     "output_type": "stream",
     "text": [
      "Time elapsed:  119.98475766181946\n",
      "Running  evaluate\n",
      "accuracy_score:  0.9218626677190213\n",
      "confusion matrix for  LogisticRegression :  [[569  62]\n",
      " [ 37 599]]\n"
     ]
    },
    {
     "data": {
      "text/plain": [
       "<Figure size 640x480 with 1 Axes>"
      ]
     },
     "metadata": {},
     "output_type": "display_data"
    },
    {
     "name": "stdout",
     "output_type": "stream",
     "text": [
      "Time elapsed:  0.04900860786437988\n",
      "Time elapsed:  129.6921820640564\n"
     ]
    }
   ],
   "source": [
    "#from spam_detection import *\n",
    "\n",
    "import sys\n",
    "import os\n",
    "\n",
    "module_path = os.path.abspath(os.path.join('..'))\n",
    "if module_path not in sys.path:\n",
    "    sys.path.append(module_path + \"\\\\common\")\n",
    "\n",
    "from classification import *\n",
    "\n",
    "preprocessings = [\n",
    "    TfidfVectorizer(stop_words='english', max_df=0.7), \n",
    "    CountVectorizer(ngram_range=(1,1), # to use bigrams ngram_range=(2,2)\n",
    "                    stop_words='english')             \n",
    "                 ]\n",
    "\n",
    "classifiers = [MultinomialNB(),\n",
    "               PassiveAggressiveClassifier(),\n",
    "               LogisticRegression()\n",
    "              ]\n",
    "parameters = [\n",
    "    # Naive Bayes\n",
    "    {\n",
    "        'alpha': [0.1, 0.2, 0.5, 1.]\n",
    "    },\n",
    "    # Passive Aggressive\n",
    "    {\n",
    "        'max_iter': [10, 20, 50, 100],\n",
    "         'C': [0.1, 0.5, 1.],\n",
    "         'loss': ['hinge', 'squared_hinge']\n",
    "    },\n",
    "    # Logistic Regression\n",
    "    {\n",
    "        'penalty': ['l1', 'l2'],\n",
    "        'C': [0.1, 0.5, 1., 2.],\n",
    "        'max_iter': [20, 50, 100, 200]\n",
    "    }\n",
    "]\n",
    "\n",
    "mapping = {\n",
    "    'label': {\n",
    "        'FAKE': 1,\n",
    "        'REAL': 0\n",
    "    }\n",
    "}\n",
    "\n",
    "detector = Classification('news.csv', 'text', 'label', \n",
    "                          mapping=mapping)\n",
    "for prep in preprocessings:\n",
    "    for clf, params in zip(classifiers, parameters):\n",
    "        print(prep.__class__.__name__, clf.__class__.__name__)\n",
    "        detector.set_methods(prep, clf)\n",
    "        detector.set_parameters(params)\n",
    "        detector.run()"
   ]
  },
  {
   "cell_type": "code",
   "execution_count": null,
   "metadata": {},
   "outputs": [],
   "source": []
  },
  {
   "cell_type": "code",
   "execution_count": null,
   "metadata": {},
   "outputs": [],
   "source": []
  }
 ],
 "metadata": {
  "kernelspec": {
   "display_name": "Python 3",
   "language": "python",
   "name": "python3"
  },
  "language_info": {
   "codemirror_mode": {
    "name": "ipython",
    "version": 3
   },
   "file_extension": ".py",
   "mimetype": "text/x-python",
   "name": "python",
   "nbconvert_exporter": "python",
   "pygments_lexer": "ipython3",
   "version": "3.6.8"
  }
 },
 "nbformat": 4,
 "nbformat_minor": 2
}
